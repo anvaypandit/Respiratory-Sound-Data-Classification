{
  "nbformat": 4,
  "nbformat_minor": 0,
  "metadata": {
    "colab": {
      "name": "STFT_SVM_XGB_Binary.ipynb",
      "provenance": []
    },
    "kernelspec": {
      "name": "python3",
      "display_name": "Python 3"
    }
  },
  "cells": [
    {
      "cell_type": "code",
      "metadata": {
        "id": "qtnEcH9sCe46",
        "colab_type": "code",
        "colab": {
          "base_uri": "https://localhost:8080/",
          "height": 173
        },
        "outputId": "33265fba-8a73-47dc-9d0c-63e3d904e8ed"
      },
      "source": [
        "import numpy as np\n",
        "import matplotlib.pyplot as plt\n",
        "import seaborn as sns\n",
        "import sklearn\n",
        "import pandas as pd\n",
        "import wave\n",
        "import sys\n",
        "import os\n",
        "import librosa\n",
        "import librosa.display\n",
        "import xgboost as xgb\n",
        "from  sklearn.preprocessing import StandardScaler,MinMaxScaler\n",
        "from sklearn.cluster import KMeans\n",
        "from sklearn.model_selection import GridSearchCV \n",
        "from sklearn.metrics import accuracy_score, f1_score, classification_report\n",
        "from sklearn.svm import SVC\n",
        "from sklearn.linear_model import LogisticRegression\n",
        "import sklearn.naive_bayes as nb\n",
        "from sklearn.tree import DecisionTreeClassifier\n",
        "from sklearn.ensemble import RandomForestClassifier\n",
        "from sklearn.ensemble import BaggingClassifier,GradientBoostingClassifier\n",
        "from sklearn.neighbors import kd_tree\n",
        "import seaborn as sn\n",
        "from sklearn.metrics import confusion_matrix\n",
        "from collections import Counter\n",
        "from sklearn.datasets import make_classification\n",
        "from imblearn.over_sampling import SMOTE"
      ],
      "execution_count": 1,
      "outputs": [
        {
          "output_type": "stream",
          "text": [
            "/usr/local/lib/python3.6/dist-packages/statsmodels/tools/_testing.py:19: FutureWarning: pandas.util.testing is deprecated. Use the functions in the public API at pandas.testing instead.\n",
            "  import pandas.util.testing as tm\n",
            "/usr/local/lib/python3.6/dist-packages/sklearn/utils/deprecation.py:144: FutureWarning: The sklearn.neighbors.kd_tree module is  deprecated in version 0.22 and will be removed in version 0.24. The corresponding classes / functions should instead be imported from sklearn.neighbors. Anything that cannot be imported from sklearn.neighbors is now part of the private API.\n",
            "  warnings.warn(message, FutureWarning)\n",
            "/usr/local/lib/python3.6/dist-packages/sklearn/externals/six.py:31: FutureWarning: The module is deprecated in version 0.21 and will be removed in version 0.23 since we've dropped support for Python 2.7. Please rely on the official version of six (https://pypi.org/project/six/).\n",
            "  \"(https://pypi.org/project/six/).\", FutureWarning)\n",
            "/usr/local/lib/python3.6/dist-packages/sklearn/utils/deprecation.py:144: FutureWarning: The sklearn.neighbors.base module is  deprecated in version 0.22 and will be removed in version 0.24. The corresponding classes / functions should instead be imported from sklearn.neighbors. Anything that cannot be imported from sklearn.neighbors is now part of the private API.\n",
            "  warnings.warn(message, FutureWarning)\n"
          ],
          "name": "stderr"
        }
      ]
    },
    {
      "cell_type": "code",
      "metadata": {
        "id": "NmmJn-4JC5MF",
        "colab_type": "code",
        "colab": {
          "base_uri": "https://localhost:8080/",
          "height": 34
        },
        "outputId": "c9bd4ff5-2290-4043-93e6-a7f2974c3789"
      },
      "source": [
        "from tensorflow.keras.models import Sequential, Model\n",
        "from tensorflow.keras.layers import Dense, Dropout, Conv2D, MaxPooling2D, GlobalAveragePooling2D, Conv1D, MaxPooling1D, Flatten\n",
        "from keras.utils import to_categorical\n",
        "from tensorflow.keras.callbacks import ModelCheckpoint\n",
        "\n",
        "from tensorflow.keras.regularizers import l2\n",
        "\n",
        "\n",
        "from sklearn.metrics import confusion_matrix, classification_report, roc_curve, auc, accuracy_score\n",
        "from sklearn.model_selection import train_test_split\n",
        "from sklearn.preprocessing import LabelEncoder\n",
        "\n",
        "import matplotlib.pyplot as plt\n",
        "import seaborn as sns\n",
        "from datetime import datetime"
      ],
      "execution_count": 2,
      "outputs": [
        {
          "output_type": "stream",
          "text": [
            "Using TensorFlow backend.\n"
          ],
          "name": "stderr"
        }
      ]
    },
    {
      "cell_type": "code",
      "metadata": {
        "id": "xZq0wnkbC7Cw",
        "colab_type": "code",
        "colab": {}
      },
      "source": [
        "import pickle\n",
        "folder = \"/content/drive/My Drive/Respiratory_Sound_Database/Respiratory_Sound_Database/\" \n",
        "filename = folder + 'w_c_dataset.pickle'\n",
        "infile = open(filename,'rb')\n",
        "[sound,sr,lengths,times,labels] = pickle.load(infile)\n",
        "infile.close()"
      ],
      "execution_count": 0,
      "outputs": []
    },
    {
      "cell_type": "code",
      "metadata": {
        "id": "8Jd6gO8GC9FA",
        "colab_type": "code",
        "colab": {}
      },
      "source": [
        "def split_sounds(sounds,times,labels):\n",
        "    s=[]\n",
        "    l=[]\n",
        "    for i,sound in enumerate(sounds):\n",
        "        for t,label in zip(times[i],labels[i]):\n",
        "            s.append(sound[int(t[0]):int(t[1])])\n",
        "            if label==0:\n",
        "                a=np.array([1,0,0,0])\n",
        "            if label==1:\n",
        "                a=np.array([0,1,0,0])\n",
        "            if label==2:\n",
        "                a=np.array([0,0,1,0])    \n",
        "            if label==3:\n",
        "                a=np.array([0,0,0,1])\n",
        "            l.append(a)\n",
        "    return s,l"
      ],
      "execution_count": 0,
      "outputs": []
    },
    {
      "cell_type": "code",
      "metadata": {
        "id": "3BWntbcaDMjY",
        "colab_type": "code",
        "colab": {}
      },
      "source": [
        "import librosa\n",
        "base_path = \"/content/drive/My Drive/Respiratory_Sound_Database/Respiratory_Sound_Database/Chroma-smooth/RC/\"\n",
        "def extract_feature(cycle_number,X,sample_rate):\n",
        "    n_fft=int(sample_rate*0.025)\n",
        "    stfts = librosa.core.stft(y=X,n_fft=n_fft)\n",
        "    stfts = np.abs(stfts)\n",
        "    #stfts = resize(stfts, (40,670), mode = 'constant')\n",
        "    #return stfts\n",
        "\n",
        "    std_stft = np.std(stfts.T,axis=0)\n",
        "    mean_stft = np.std(stfts.T,axis=0)\n",
        "\n",
        "    check = np.hstack((mean_stft,std_stft))\n",
        "    return check"
      ],
      "execution_count": 0,
      "outputs": []
    },
    {
      "cell_type": "code",
      "metadata": {
        "id": "exiE1es5EN5B",
        "colab_type": "code",
        "colab": {
          "base_uri": "https://localhost:8080/",
          "height": 34
        },
        "outputId": "38c3eacf-18b5-44af-bd7d-93d82a221618"
      },
      "source": [
        "[data,label]=split_sounds(sound,times,labels)\n",
        "import sys\n",
        "dataset = []\n",
        "for i,d in enumerate(data):\n",
        "    a = extract_feature(i+1,d,sr[0])\n",
        "    dataset.append(a)\n",
        "dataset = np.array(dataset)\n",
        "dataset.shape"
      ],
      "execution_count": 10,
      "outputs": [
        {
          "output_type": "execute_result",
          "data": {
            "text/plain": [
              "(6898, 552)"
            ]
          },
          "metadata": {
            "tags": []
          },
          "execution_count": 10
        }
      ]
    },
    {
      "cell_type": "code",
      "metadata": {
        "id": "QDMRfuppEQ4A",
        "colab_type": "code",
        "colab": {
          "base_uri": "https://localhost:8080/",
          "height": 51
        },
        "outputId": "33bac40b-0363-4c35-f264-b86d1f471740"
      },
      "source": [
        "label=np.asarray(label)\n",
        "a=np.zeros(label.shape[0])\n",
        "for i in range(label.shape[0]):\n",
        "    for j in range(label.shape[1]):\n",
        "        if label[i][j]==1:\n",
        "            a[i]=j\n",
        "\n",
        "# Convert to binary for the binary classification problem\n",
        "bin_label =np.zeros(label.shape[0])\n",
        "for index,l in enumerate(a):\n",
        "    if l == 0:\n",
        "        bin_label[index] = l\n",
        "    else:\n",
        "        bin_label[index] = 1\n",
        "\n",
        "unique, counts = np.unique(bin_label, return_counts=True)\n",
        "\n",
        "print(np.asarray((unique, counts)).T)\n",
        "\n",
        "\n",
        "# One-hot encode labels\n",
        "le = LabelEncoder()\n",
        "i_labels = le.fit_transform(bin_label)\n",
        "oh_labels = to_categorical(i_labels) "
      ],
      "execution_count": 11,
      "outputs": [
        {
          "output_type": "stream",
          "text": [
            "[[0.000e+00 3.642e+03]\n",
            " [1.000e+00 3.256e+03]]\n"
          ],
          "name": "stdout"
        }
      ]
    },
    {
      "cell_type": "code",
      "metadata": {
        "id": "Wsnw95k4Eu8H",
        "colab_type": "code",
        "colab": {}
      },
      "source": [
        "scaler=StandardScaler()\n",
        "x_train,x_test,y_train,y_test = sklearn.model_selection.train_test_split(dataset,bin_label,test_size=0.3, random_state=42,stratify=bin_label)\n",
        "scaler.fit(x_train)\n",
        "x_train=scaler.transform(x_train)\n",
        "x_test=scaler.transform(x_test)"
      ],
      "execution_count": 0,
      "outputs": []
    },
    {
      "cell_type": "code",
      "metadata": {
        "id": "jVJ8VxDkExjI",
        "colab_type": "code",
        "colab": {
          "base_uri": "https://localhost:8080/",
          "height": 408
        },
        "outputId": "0df0f207-d5c7-4440-9891-6d6b6a0c1d51"
      },
      "source": [
        "Cs = [2**(-2),2**(-1), 1,2**(1),2**(2),2**(3),2**(4),2**(5),2**(6),2**(7),2**(8),2**(9),2**(10)]\n",
        "gamma = [2**(-7),2**(-6),2**(-5),2**(-4),2**(-3),2**(-2),2**(-1),2**(0),2**(1),2**(2),2**(3)]\n",
        "\n",
        "\n",
        "param_grid = {'C': Cs,  \n",
        "                'gamma': gamma, \n",
        "                'kernel': ['rbf'],\n",
        "                'class_weight': ['balanced']}  \n",
        "grid1 = GridSearchCV(SVC(), param_grid,cv=3,n_jobs=-1, verbose = 3) \n",
        "\n",
        "# fitting the model for grid search \n",
        "grid1.fit(x_train, y_train)\n",
        "\n",
        "# print best parameter after tuning \n",
        "print(grid1.best_params_) \n",
        "# print how our model looks after hyper-parameter tuning \n",
        "print(grid1.best_estimator_)\n",
        "\n",
        "grid_predictions = grid1.predict(x_test) \n",
        "\n",
        "# print classification report \n",
        "print(classification_report(y_test, grid_predictions))\n",
        "print(accuracy_score(y_test,grid_predictions))\n",
        "\n",
        "print(sklearn.metrics.confusion_matrix(y_test,grid_predictions))\n"
      ],
      "execution_count": 13,
      "outputs": [
        {
          "output_type": "stream",
          "text": [
            "Fitting 3 folds for each of 143 candidates, totalling 429 fits\n"
          ],
          "name": "stdout"
        },
        {
          "output_type": "stream",
          "text": [
            "[Parallel(n_jobs=-1)]: Using backend LokyBackend with 2 concurrent workers.\n",
            "[Parallel(n_jobs=-1)]: Done  28 tasks      | elapsed:  3.0min\n",
            "[Parallel(n_jobs=-1)]: Done 124 tasks      | elapsed: 13.0min\n",
            "[Parallel(n_jobs=-1)]: Done 284 tasks      | elapsed: 29.8min\n",
            "[Parallel(n_jobs=-1)]: Done 429 out of 429 | elapsed: 46.1min finished\n"
          ],
          "name": "stderr"
        },
        {
          "output_type": "stream",
          "text": [
            "{'C': 32, 'class_weight': 'balanced', 'gamma': 0.125, 'kernel': 'rbf'}\n",
            "SVC(C=32, break_ties=False, cache_size=200, class_weight='balanced', coef0=0.0,\n",
            "    decision_function_shape='ovr', degree=3, gamma=0.125, kernel='rbf',\n",
            "    max_iter=-1, probability=False, random_state=None, shrinking=True,\n",
            "    tol=0.001, verbose=False)\n",
            "              precision    recall  f1-score   support\n",
            "\n",
            "         0.0       0.75      0.81      0.78      1093\n",
            "         1.0       0.77      0.70      0.74       977\n",
            "\n",
            "    accuracy                           0.76      2070\n",
            "   macro avg       0.76      0.76      0.76      2070\n",
            "weighted avg       0.76      0.76      0.76      2070\n",
            "\n",
            "0.7608695652173914\n",
            "[[888 205]\n",
            " [290 687]]\n"
          ],
          "name": "stdout"
        }
      ]
    },
    {
      "cell_type": "code",
      "metadata": {
        "id": "Xl6m3MkEE0no",
        "colab_type": "code",
        "colab": {
          "base_uri": "https://localhost:8080/",
          "height": 51
        },
        "outputId": "071f079f-8146-4b42-e373-823d5539b96c"
      },
      "source": [
        "# Running XgBoost\n",
        "import xgboost as xgb\n",
        "\n",
        "print('Training XGB Classifier from new features:')\n",
        "xgb_model = xgb.XGBClassifier(max_depth=30,num_class=2, n_estimators=60, learning_rate=0.1, colsample_bytree=.7, gamma=0, reg_alpha=4, objective='multi:softmax', eta=0.3, silent=0, subsample=0.8).fit(x_train, y_train)\n",
        "\n",
        "xgb_pred = xgb_model.predict(x_test)\n",
        "print(accuracy_score(y_test,xgb_pred))"
      ],
      "execution_count": 14,
      "outputs": [
        {
          "output_type": "stream",
          "text": [
            "Training XGB Classifier from new features:\n",
            "0.7811594202898551\n"
          ],
          "name": "stdout"
        }
      ]
    },
    {
      "cell_type": "code",
      "metadata": {
        "id": "v2sqtUboE3Nd",
        "colab_type": "code",
        "colab": {}
      },
      "source": [
        ""
      ],
      "execution_count": 0,
      "outputs": []
    }
  ]
}