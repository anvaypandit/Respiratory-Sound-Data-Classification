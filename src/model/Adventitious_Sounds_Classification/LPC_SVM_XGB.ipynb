{
  "nbformat": 4,
  "nbformat_minor": 0,
  "metadata": {
    "colab": {
      "name": "LPC_SVM_XGB.ipynb",
      "provenance": []
    },
    "kernelspec": {
      "name": "python3",
      "display_name": "Python 3"
    }
  },
  "cells": [
    {
      "cell_type": "code",
      "metadata": {
        "id": "USqLsyxItrjr",
        "colab_type": "code",
        "colab": {}
      },
      "source": [
        "folder = '/content/drive/My Drive/Respiratory_Sound_Database/Respiratory_Sound_Database/'"
      ],
      "execution_count": 0,
      "outputs": []
    },
    {
      "cell_type": "code",
      "metadata": {
        "id": "X47jTwIPtxgO",
        "colab_type": "code",
        "outputId": "91ee6377-0e95-465a-e811-1890543296be",
        "colab": {
          "base_uri": "https://localhost:8080/",
          "height": 35
        }
      },
      "source": [
        "import pandas as pd\n",
        "import numpy as np\n",
        "from sklearn.preprocessing import LabelEncoder\n",
        "from keras.utils import to_categorical"
      ],
      "execution_count": 2,
      "outputs": [
        {
          "output_type": "stream",
          "text": [
            "Using TensorFlow backend.\n"
          ],
          "name": "stderr"
        }
      ]
    },
    {
      "cell_type": "code",
      "metadata": {
        "id": "C-klaqyn_E5e",
        "colab_type": "code",
        "colab": {
          "base_uri": "https://localhost:8080/",
          "height": 176
        },
        "outputId": "e05b5903-16c7-4627-ff46-2c9719e6f1c8"
      },
      "source": [
        "import numpy as np\n",
        "import matplotlib.pyplot as plt\n",
        "import seaborn as sns\n",
        "import sklearn\n",
        "import pandas as pd\n",
        "import wave\n",
        "import sys\n",
        "import os\n",
        "import librosa\n",
        "import librosa.display\n",
        "import xgboost as xgb\n",
        "from  sklearn.preprocessing import StandardScaler,MinMaxScaler\n",
        "from sklearn.cluster import KMeans\n",
        "from sklearn.model_selection import GridSearchCV \n",
        "from sklearn.metrics import accuracy_score, f1_score, classification_report\n",
        "from sklearn.svm import SVC\n",
        "from sklearn.linear_model import LogisticRegression\n",
        "import sklearn.naive_bayes as nb\n",
        "from sklearn.tree import DecisionTreeClassifier\n",
        "from sklearn.ensemble import RandomForestClassifier\n",
        "from sklearn.ensemble import BaggingClassifier,GradientBoostingClassifier\n",
        "from sklearn.neighbors import kd_tree\n",
        "import seaborn as sn\n",
        "from sklearn.metrics import confusion_matrix\n",
        "from collections import Counter\n",
        "from sklearn.datasets import make_classification\n",
        "from imblearn.over_sampling import SMOTE"
      ],
      "execution_count": 3,
      "outputs": [
        {
          "output_type": "stream",
          "text": [
            "/usr/local/lib/python3.6/dist-packages/statsmodels/tools/_testing.py:19: FutureWarning: pandas.util.testing is deprecated. Use the functions in the public API at pandas.testing instead.\n",
            "  import pandas.util.testing as tm\n",
            "/usr/local/lib/python3.6/dist-packages/sklearn/utils/deprecation.py:144: FutureWarning: The sklearn.neighbors.kd_tree module is  deprecated in version 0.22 and will be removed in version 0.24. The corresponding classes / functions should instead be imported from sklearn.neighbors. Anything that cannot be imported from sklearn.neighbors is now part of the private API.\n",
            "  warnings.warn(message, FutureWarning)\n",
            "/usr/local/lib/python3.6/dist-packages/sklearn/externals/six.py:31: FutureWarning: The module is deprecated in version 0.21 and will be removed in version 0.23 since we've dropped support for Python 2.7. Please rely on the official version of six (https://pypi.org/project/six/).\n",
            "  \"(https://pypi.org/project/six/).\", FutureWarning)\n",
            "/usr/local/lib/python3.6/dist-packages/sklearn/utils/deprecation.py:144: FutureWarning: The sklearn.neighbors.base module is  deprecated in version 0.22 and will be removed in version 0.24. The corresponding classes / functions should instead be imported from sklearn.neighbors. Anything that cannot be imported from sklearn.neighbors is now part of the private API.\n",
            "  warnings.warn(message, FutureWarning)\n"
          ],
          "name": "stderr"
        }
      ]
    },
    {
      "cell_type": "code",
      "metadata": {
        "id": "6h9OqYn-t8x3",
        "colab_type": "code",
        "colab": {}
      },
      "source": [
        "# Rad the Saved Features\n",
        "filename = folder + 'RC-lpc.csv'\n",
        "df = pd.read_csv(filename,header=None)"
      ],
      "execution_count": 0,
      "outputs": []
    },
    {
      "cell_type": "code",
      "metadata": {
        "id": "WfEVjfIYuGDu",
        "colab_type": "code",
        "outputId": "b09da6ae-15e3-45f3-d42d-d927182d4498",
        "colab": {
          "base_uri": "https://localhost:8080/",
          "height": 35
        }
      },
      "source": [
        "df.shape"
      ],
      "execution_count": 8,
      "outputs": [
        {
          "output_type": "execute_result",
          "data": {
            "text/plain": [
              "(6898, 3)"
            ]
          },
          "metadata": {
            "tags": []
          },
          "execution_count": 8
        }
      ]
    },
    {
      "cell_type": "code",
      "metadata": {
        "id": "HOuZ-XcEa_Ms",
        "colab_type": "code",
        "colab": {
          "base_uri": "https://localhost:8080/",
          "height": 124
        },
        "outputId": "edaae406-2ea6-493e-fc76-b716bbf59536"
      },
      "source": [
        "from google.colab import drive\n",
        "drive.mount('/content/drive')"
      ],
      "execution_count": 6,
      "outputs": [
        {
          "output_type": "stream",
          "text": [
            "Go to this URL in a browser: https://accounts.google.com/o/oauth2/auth?client_id=947318989803-6bn6qk8qdgf4n4g3pfee6491hc0brc4i.apps.googleusercontent.com&redirect_uri=urn%3aietf%3awg%3aoauth%3a2.0%3aoob&response_type=code&scope=email%20https%3a%2f%2fwww.googleapis.com%2fauth%2fdocs.test%20https%3a%2f%2fwww.googleapis.com%2fauth%2fdrive%20https%3a%2f%2fwww.googleapis.com%2fauth%2fdrive.photos.readonly%20https%3a%2f%2fwww.googleapis.com%2fauth%2fpeopleapi.readonly\n",
            "\n",
            "Enter your authorization code:\n",
            "··········\n",
            "Mounted at /content/drive\n"
          ],
          "name": "stdout"
        }
      ]
    },
    {
      "cell_type": "code",
      "metadata": {
        "id": "NsJgk_KmuJrV",
        "colab_type": "code",
        "colab": {}
      },
      "source": [
        "# Load per cycle data frame\n",
        "# This only loaded to get the corresponding labels\n",
        "import pickle\n",
        "folder = \"/content/drive/My Drive/Respiratory_Sound_Database/Respiratory_Sound_Database/\" \n",
        "filename = folder + 'w_c_dataset.pickle'\n",
        "infile = open(filename,'rb')\n",
        "[sound,sr,lengths,times,labels] = pickle.load(infile)\n",
        "infile.close()"
      ],
      "execution_count": 0,
      "outputs": []
    },
    {
      "cell_type": "code",
      "metadata": {
        "id": "0cnRS2uu9z6W",
        "colab_type": "code",
        "colab": {}
      },
      "source": [
        "def split_sounds(sounds,times,labels):\n",
        "    s=[]\n",
        "    l=[]\n",
        "    for i,sound in enumerate(sounds):\n",
        "        for t,label in zip(times[i],labels[i]):\n",
        "            s.append(sound[int(t[0]):int(t[1])])\n",
        "            if label==0:\n",
        "                a=np.array([1,0,0,0])\n",
        "            if label==1:\n",
        "                a=np.array([0,1,0,0])\n",
        "            if label==2:\n",
        "                a=np.array([0,0,1,0])    \n",
        "            if label==3:\n",
        "                a=np.array([0,0,0,1])\n",
        "            l.append(a)\n",
        "    return s,l"
      ],
      "execution_count": 0,
      "outputs": []
    },
    {
      "cell_type": "code",
      "metadata": {
        "id": "we52lZg4-DrG",
        "colab_type": "code",
        "colab": {}
      },
      "source": [
        "[data,label]=split_sounds(sound,times,labels)"
      ],
      "execution_count": 0,
      "outputs": []
    },
    {
      "cell_type": "code",
      "metadata": {
        "id": "tT4KwlZJi2O5",
        "colab_type": "code",
        "outputId": "32e43a56-7413-41fa-9f5b-ca5b23df1646",
        "colab": {
          "base_uri": "https://localhost:8080/",
          "height": 52
        }
      },
      "source": [
        "# add channel dimension for CNN\n",
        "dataset = df\n",
        "\n",
        "label=np.asarray(label)\n",
        "a=np.zeros(label.shape[0])\n",
        "for i in range(label.shape[0]):\n",
        "    for j in range(label.shape[1]):\n",
        "        if label[i][j]==1:\n",
        "            a[i]=j\n",
        "\n",
        "# COnvert to binary for the binary classification problem\n",
        "bin_label =np.zeros(label.shape[0])\n",
        "for index,l in enumerate(a):\n",
        "    if l == 0:\n",
        "        bin_label[index] = l\n",
        "    else:\n",
        "        bin_label[index] = 1\n",
        "\n",
        "unique, counts = np.unique(bin_label, return_counts=True)\n",
        "\n",
        "print(np.asarray((unique, counts)).T)\n",
        "\n",
        "\n",
        "# One-hot encode labels\n",
        "le = LabelEncoder()\n",
        "i_labels = le.fit_transform(bin_label)\n",
        "oh_labels = to_categorical(i_labels)"
      ],
      "execution_count": 13,
      "outputs": [
        {
          "output_type": "stream",
          "text": [
            "[[0.000e+00 3.642e+03]\n",
            " [1.000e+00 3.256e+03]]\n"
          ],
          "name": "stdout"
        }
      ]
    },
    {
      "cell_type": "code",
      "metadata": {
        "id": "UskL2NnN-bzP",
        "colab_type": "code",
        "colab": {}
      },
      "source": [
        "scaler=StandardScaler()\n",
        "x_train,x_test,y_train,y_test = sklearn.model_selection.train_test_split(df,i_labels,test_size=0.3, random_state=42,stratify=i_labels)\n",
        "scaler.fit(x_train)\n",
        "x_train=scaler.transform(x_train)\n",
        "x_test=scaler.transform(x_test)"
      ],
      "execution_count": 0,
      "outputs": []
    },
    {
      "cell_type": "code",
      "metadata": {
        "id": "Yhz0GH8--4LP",
        "colab_type": "code",
        "outputId": "e949c08f-e420-456e-88de-ec8a35d82a9b",
        "colab": {
          "base_uri": "https://localhost:8080/",
          "height": 503
        }
      },
      "source": [
        "Cs = [2**(-2),2**(-1), 1,2**(1),2**(2),2**(3),2**(4),2**(5),2**(6),2**(7),2**(8),2**(9),2**(10)]\n",
        "gamma = [2**(-7),2**(-6),2**(-5),2**(-4),2**(-3),2**(-2),2**(-1),2**(0),2**(1),2**(2),2**(3)]\n",
        "\n",
        "\n",
        "param_grid = {'C': Cs,  \n",
        "                'gamma': gamma, \n",
        "                'kernel': ['rbf'],\n",
        "                'class_weight': ['balanced']}  \n",
        "\n",
        "\n",
        "\n",
        "grid1 = GridSearchCV(SVC(), param_grid,cv=3,n_jobs=-1, verbose = 3) \n",
        "\n",
        "# fitting the model for grid search \n",
        "grid1.fit(x_train, y_train)\n",
        "\n",
        "# print best parameter after tuning \n",
        "print(\"Best Parameters after tuning:\")\n",
        "print(grid1.best_params_) \n",
        "# print how our model looks after hyper-parameter tuning\n",
        "print(\"Best selected Model: \") \n",
        "print(grid1.best_estimator_)\n",
        "\n",
        "grid_predictions = grid1.predict(x_test) \n",
        "\n",
        "# print classification report\n",
        "print(\"Classification Report: \") \n",
        "print(classification_report(y_test, grid_predictions))\n",
        "print(\"Classification Accuracy: \")\n",
        "print(accuracy_score(y_test,grid_predictions))\n",
        "\n",
        "print(\"Confusion Matrix is as Follows: \")\n",
        "print(sklearn.metrics.confusion_matrix(y_test,grid_predictions))"
      ],
      "execution_count": 15,
      "outputs": [
        {
          "output_type": "stream",
          "text": [
            "Fitting 3 folds for each of 143 candidates, totalling 429 fits\n"
          ],
          "name": "stdout"
        },
        {
          "output_type": "stream",
          "text": [
            "[Parallel(n_jobs=-1)]: Using backend LokyBackend with 2 concurrent workers.\n",
            "[Parallel(n_jobs=-1)]: Done  28 tasks      | elapsed:   14.8s\n",
            "[Parallel(n_jobs=-1)]: Done 124 tasks      | elapsed:  1.0min\n",
            "[Parallel(n_jobs=-1)]: Done 284 tasks      | elapsed:  2.4min\n",
            "[Parallel(n_jobs=-1)]: Done 429 out of 429 | elapsed:  4.0min finished\n"
          ],
          "name": "stderr"
        },
        {
          "output_type": "stream",
          "text": [
            "Best Parameters after tuning:\n",
            "{'C': 256, 'class_weight': 'balanced', 'gamma': 8, 'kernel': 'rbf'}\n",
            "Best selected Model: \n",
            "SVC(C=256, break_ties=False, cache_size=200, class_weight='balanced', coef0=0.0,\n",
            "    decision_function_shape='ovr', degree=3, gamma=8, kernel='rbf', max_iter=-1,\n",
            "    probability=False, random_state=None, shrinking=True, tol=0.001,\n",
            "    verbose=False)\n",
            "Classification Report: \n",
            "              precision    recall  f1-score   support\n",
            "\n",
            "           0       0.55      0.48      0.51      1093\n",
            "           1       0.49      0.57      0.53       977\n",
            "\n",
            "    accuracy                           0.52      2070\n",
            "   macro avg       0.52      0.52      0.52      2070\n",
            "weighted avg       0.52      0.52      0.52      2070\n",
            "\n",
            "Classification Accuracy: \n",
            "0.5207729468599034\n",
            "Confusion Matrix is as Follows: \n",
            "[[525 568]\n",
            " [424 553]]\n"
          ],
          "name": "stdout"
        }
      ]
    },
    {
      "cell_type": "code",
      "metadata": {
        "id": "WBQhNrESWEei",
        "colab_type": "code",
        "outputId": "eecd0b15-e485-4a9c-fb48-f3b4233c1353",
        "colab": {
          "base_uri": "https://localhost:8080/",
          "height": 52
        }
      },
      "source": [
        "# Running XgBoost\n",
        "import xgboost as xgb\n",
        "\n",
        "print('Training XGB Classifier from new features:')\n",
        "xgb_model = xgb.XGBClassifier(max_depth=3,num_class=2, n_estimators=15, learning_rate=0.1, colsample_bytree=.7, gamma=0, reg_alpha=4, objective='multi:softmax', eta=0.3, silent=0, subsample=0.8).fit(x_train, y_train)\n",
        "\n",
        "xgb_pred = xgb_model.predict(x_test)\n",
        "print(accuracy_score(y_test,xgb_pred))"
      ],
      "execution_count": 19,
      "outputs": [
        {
          "output_type": "stream",
          "text": [
            "Training XGB Classifier from new features:\n",
            "0.533816425120773\n"
          ],
          "name": "stdout"
        }
      ]
    }
  ]
}