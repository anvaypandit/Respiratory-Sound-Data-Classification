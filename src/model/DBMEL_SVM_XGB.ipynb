{
  "nbformat": 4,
  "nbformat_minor": 0,
  "metadata": {
    "colab": {
      "name": "LogMEL_SVM_XGB.ipynb",
      "provenance": []
    },
    "kernelspec": {
      "name": "python3",
      "display_name": "Python 3"
    }
  },
  "cells": [
    {
      "cell_type": "code",
      "metadata": {
        "id": "7e6E8jdJd0iq",
        "colab_type": "code",
        "colab": {
          "base_uri": "https://localhost:8080/",
          "height": 176
        },
        "outputId": "30f54829-8bcc-43f5-ef21-f4acd5b47bc0"
      },
      "source": [
        "import numpy as np\n",
        "import matplotlib.pyplot as plt\n",
        "import seaborn as sns\n",
        "import sklearn\n",
        "import pandas as pd\n",
        "import wave\n",
        "import sys\n",
        "import os\n",
        "import librosa\n",
        "import librosa.display\n",
        "import xgboost as xgb\n",
        "from  sklearn.preprocessing import StandardScaler,MinMaxScaler\n",
        "from sklearn.cluster import KMeans\n",
        "from sklearn.model_selection import GridSearchCV \n",
        "from sklearn.metrics import accuracy_score, f1_score, classification_report\n",
        "from sklearn.svm import SVC\n",
        "from sklearn.linear_model import LogisticRegression\n",
        "import sklearn.naive_bayes as nb\n",
        "from sklearn.tree import DecisionTreeClassifier\n",
        "from sklearn.ensemble import RandomForestClassifier\n",
        "from sklearn.ensemble import BaggingClassifier,GradientBoostingClassifier\n",
        "from sklearn.neighbors import kd_tree\n",
        "import seaborn as sn\n",
        "from sklearn.metrics import confusion_matrix\n",
        "from collections import Counter\n",
        "from sklearn.datasets import make_classification\n",
        "from imblearn.over_sampling import SMOTE"
      ],
      "execution_count": 1,
      "outputs": [
        {
          "output_type": "stream",
          "text": [
            "/usr/local/lib/python3.6/dist-packages/statsmodels/tools/_testing.py:19: FutureWarning: pandas.util.testing is deprecated. Use the functions in the public API at pandas.testing instead.\n",
            "  import pandas.util.testing as tm\n",
            "/usr/local/lib/python3.6/dist-packages/sklearn/utils/deprecation.py:144: FutureWarning: The sklearn.neighbors.kd_tree module is  deprecated in version 0.22 and will be removed in version 0.24. The corresponding classes / functions should instead be imported from sklearn.neighbors. Anything that cannot be imported from sklearn.neighbors is now part of the private API.\n",
            "  warnings.warn(message, FutureWarning)\n",
            "/usr/local/lib/python3.6/dist-packages/sklearn/externals/six.py:31: FutureWarning: The module is deprecated in version 0.21 and will be removed in version 0.23 since we've dropped support for Python 2.7. Please rely on the official version of six (https://pypi.org/project/six/).\n",
            "  \"(https://pypi.org/project/six/).\", FutureWarning)\n",
            "/usr/local/lib/python3.6/dist-packages/sklearn/utils/deprecation.py:144: FutureWarning: The sklearn.neighbors.base module is  deprecated in version 0.22 and will be removed in version 0.24. The corresponding classes / functions should instead be imported from sklearn.neighbors. Anything that cannot be imported from sklearn.neighbors is now part of the private API.\n",
            "  warnings.warn(message, FutureWarning)\n"
          ],
          "name": "stderr"
        }
      ]
    },
    {
      "cell_type": "code",
      "metadata": {
        "id": "lnUBFBIzf3Vv",
        "colab_type": "code",
        "colab": {
          "base_uri": "https://localhost:8080/",
          "height": 35
        },
        "outputId": "5065d277-d4aa-4d30-8ae8-32c65537dbb6"
      },
      "source": [
        "from tensorflow.keras.models import Sequential, Model\n",
        "from tensorflow.keras.layers import Dense, Dropout, Conv2D, MaxPooling2D, GlobalAveragePooling2D, Conv1D, MaxPooling1D, Flatten\n",
        "from keras.utils import to_categorical\n",
        "from tensorflow.keras.callbacks import ModelCheckpoint\n",
        "\n",
        "from tensorflow.keras.regularizers import l2\n",
        "\n",
        "\n",
        "from sklearn.metrics import confusion_matrix, classification_report, roc_curve, auc, accuracy_score\n",
        "from sklearn.model_selection import train_test_split\n",
        "from sklearn.preprocessing import LabelEncoder\n",
        "\n",
        "import matplotlib.pyplot as plt\n",
        "import seaborn as sns\n",
        "from datetime import datetime"
      ],
      "execution_count": 2,
      "outputs": [
        {
          "output_type": "stream",
          "text": [
            "Using TensorFlow backend.\n"
          ],
          "name": "stderr"
        }
      ]
    },
    {
      "cell_type": "code",
      "metadata": {
        "id": "iVoVPigRf66u",
        "colab_type": "code",
        "colab": {}
      },
      "source": [
        "import pickle\n",
        "folder = \"/content/drive/My Drive/Respiratory_Sound_Database/Respiratory_Sound_Database/\" \n",
        "filename = folder + 'w_c_dataset.pickle'\n",
        "infile = open(filename,'rb')\n",
        "[sound,sr,lengths,times,labels] = pickle.load(infile)\n",
        "infile.close()"
      ],
      "execution_count": 0,
      "outputs": []
    },
    {
      "cell_type": "code",
      "metadata": {
        "id": "Lbji0T1Jf-Ts",
        "colab_type": "code",
        "colab": {}
      },
      "source": [
        "def split_sounds(sounds,times,labels):\n",
        "    s=[]\n",
        "    l=[]\n",
        "    for i,sound in enumerate(sounds):\n",
        "        for t,label in zip(times[i],labels[i]):\n",
        "            s.append(sound[int(t[0]):int(t[1])])\n",
        "            if label==0:\n",
        "                a=np.array([1,0,0,0])\n",
        "            if label==1:\n",
        "                a=np.array([0,1,0,0])\n",
        "            if label==2:\n",
        "                a=np.array([0,0,1,0])    \n",
        "            if label==3:\n",
        "                a=np.array([0,0,0,1])\n",
        "            l.append(a)\n",
        "    return s,l"
      ],
      "execution_count": 0,
      "outputs": []
    },
    {
      "cell_type": "code",
      "metadata": {
        "id": "b5NP_hHqgOM5",
        "colab_type": "code",
        "colab": {}
      },
      "source": [
        "[data,label]=split_sounds(sound,times,labels)"
      ],
      "execution_count": 0,
      "outputs": []
    },
    {
      "cell_type": "code",
      "metadata": {
        "id": "A2mGV81lgQpG",
        "colab_type": "code",
        "colab": {}
      },
      "source": [
        "import librosa\n",
        "base_path = \"/content/drive/My Drive/Respiratory_Sound_Database/Respiratory_Sound_Database/Chroma-smooth/RC/\"\n",
        "def extract_feature(cycle_number,X,sample_rate):\n",
        "\n",
        "    mel_spec = librosa.feature.melspectrogram(y=X, sr=sample_rate, n_mels=40)\n",
        "    ps_db= librosa.power_to_db(mel_spec, ref=np.max)\n",
        "\n",
        "    std_ps_db = np.std(ps_db.T,axis=0)\n",
        "    mean_ps_db = np.std(ps_db.T,axis=0)\n",
        "\n",
        "    check = np.hstack((mean_ps_db,std_ps_db))\n",
        "    return check"
      ],
      "execution_count": 0,
      "outputs": []
    },
    {
      "cell_type": "code",
      "metadata": {
        "id": "nrJyL10nh6Kw",
        "colab_type": "code",
        "colab": {
          "base_uri": "https://localhost:8080/",
          "height": 35
        },
        "outputId": "e7fedcb1-3269-4447-9527-0750063abea5"
      },
      "source": [
        "import sys\n",
        "dataset = []\n",
        "for i,d in enumerate(data):\n",
        "    a = extract_feature(i+1,d,sr[0])\n",
        "    dataset.append(a)\n",
        "dataset = np.array(dataset)\n",
        "dataset.shape"
      ],
      "execution_count": 8,
      "outputs": [
        {
          "output_type": "execute_result",
          "data": {
            "text/plain": [
              "(6898, 80)"
            ]
          },
          "metadata": {
            "tags": []
          },
          "execution_count": 8
        }
      ]
    },
    {
      "cell_type": "code",
      "metadata": {
        "id": "zPRx7VD8iLo8",
        "colab_type": "code",
        "colab": {
          "base_uri": "https://localhost:8080/",
          "height": 52
        },
        "outputId": "8244e6ff-0e29-4ce6-9943-f645080219c7"
      },
      "source": [
        "\n",
        "label=np.asarray(label)\n",
        "a=np.zeros(label.shape[0])\n",
        "for i in range(label.shape[0]):\n",
        "    for j in range(label.shape[1]):\n",
        "        if label[i][j]==1:\n",
        "            a[i]=j\n",
        "\n",
        "# Convert to binary for the binary classification problem\n",
        "bin_label =np.zeros(label.shape[0])\n",
        "for index,l in enumerate(a):\n",
        "    if l == 0:\n",
        "        bin_label[index] = l\n",
        "    else:\n",
        "        bin_label[index] = 1\n",
        "\n",
        "unique, counts = np.unique(bin_label, return_counts=True)\n",
        "\n",
        "print(np.asarray((unique, counts)).T)\n",
        "\n",
        "\n",
        "# One-hot encode labels\n",
        "le = LabelEncoder()\n",
        "i_labels = le.fit_transform(bin_label)\n",
        "oh_labels = to_categorical(i_labels) "
      ],
      "execution_count": 12,
      "outputs": [
        {
          "output_type": "stream",
          "text": [
            "[[0.000e+00 3.642e+03]\n",
            " [1.000e+00 3.256e+03]]\n"
          ],
          "name": "stdout"
        }
      ]
    },
    {
      "cell_type": "code",
      "metadata": {
        "id": "oLo2i1SLitZy",
        "colab_type": "code",
        "colab": {}
      },
      "source": [
        "scaler=StandardScaler()\n",
        "x_train,x_test,y_train,y_test = sklearn.model_selection.train_test_split(dataset,bin_label,test_size=0.3, random_state=42,stratify=bin_label)\n",
        "scaler.fit(x_train)\n",
        "x_train=scaler.transform(x_train)\n",
        "x_test=scaler.transform(x_test)"
      ],
      "execution_count": 0,
      "outputs": []
    },
    {
      "cell_type": "code",
      "metadata": {
        "id": "kD-I1Rcli0D3",
        "colab_type": "code",
        "colab": {}
      },
      "source": [
        ""
      ],
      "execution_count": 0,
      "outputs": []
    },
    {
      "cell_type": "code",
      "metadata": {
        "id": "J5AZoY-eeP_Z",
        "colab_type": "code",
        "outputId": "4d754982-6518-43fb-b9cd-3390e74494bf",
        "colab": {
          "base_uri": "https://localhost:8080/",
          "height": 416
        }
      },
      "source": [
        "Cs = [2**(-2),2**(-1), 1,2**(1),2**(2),2**(3),2**(4),2**(5),2**(6),2**(7),2**(8),2**(9),2**(10)]\n",
        "gamma = [2**(-7),2**(-6),2**(-5),2**(-4),2**(-3),2**(-2),2**(-1),2**(0),2**(1),2**(2),2**(3)]\n",
        "\n",
        "\n",
        "param_grid = {'C': Cs,  \n",
        "                'gamma': gamma, \n",
        "                'kernel': ['rbf'],\n",
        "                'class_weight': ['balanced']}  \n",
        "grid1 = GridSearchCV(SVC(), param_grid,cv=3,n_jobs=-1, verbose = 3) \n",
        "\n",
        "# fitting the model for grid search \n",
        "grid1.fit(x_train, y_train)\n",
        "\n",
        "# print best parameter after tuning \n",
        "print(grid1.best_params_) \n",
        "# print how our model looks after hyper-parameter tuning \n",
        "print(grid1.best_estimator_)\n",
        "\n",
        "grid_predictions = grid1.predict(x_test) \n",
        "\n",
        "# print classification report \n",
        "print(classification_report(y_test, grid_predictions))\n",
        "print(accuracy_score(y_test,grid_predictions))\n",
        "\n",
        "print(sklearn.metrics.confusion_matrix(y_test,grid_predictions))\n",
        "\n"
      ],
      "execution_count": 14,
      "outputs": [
        {
          "output_type": "stream",
          "text": [
            "Fitting 3 folds for each of 143 candidates, totalling 429 fits\n"
          ],
          "name": "stdout"
        },
        {
          "output_type": "stream",
          "text": [
            "[Parallel(n_jobs=-1)]: Using backend LokyBackend with 2 concurrent workers.\n",
            "[Parallel(n_jobs=-1)]: Done  28 tasks      | elapsed:   40.4s\n",
            "[Parallel(n_jobs=-1)]: Done 124 tasks      | elapsed:  2.9min\n",
            "[Parallel(n_jobs=-1)]: Done 284 tasks      | elapsed:  6.7min\n",
            "[Parallel(n_jobs=-1)]: Done 429 out of 429 | elapsed: 11.2min finished\n"
          ],
          "name": "stderr"
        },
        {
          "output_type": "stream",
          "text": [
            "{'C': 2, 'class_weight': 'balanced', 'gamma': 0.125, 'kernel': 'rbf'}\n",
            "SVC(C=2, break_ties=False, cache_size=200, class_weight='balanced', coef0=0.0,\n",
            "    decision_function_shape='ovr', degree=3, gamma=0.125, kernel='rbf',\n",
            "    max_iter=-1, probability=False, random_state=None, shrinking=True,\n",
            "    tol=0.001, verbose=False)\n",
            "              precision    recall  f1-score   support\n",
            "\n",
            "         0.0       0.78      0.74      0.76      1093\n",
            "         1.0       0.73      0.77      0.75       977\n",
            "\n",
            "    accuracy                           0.75      2070\n",
            "   macro avg       0.75      0.75      0.75      2070\n",
            "weighted avg       0.75      0.75      0.75      2070\n",
            "\n",
            "0.7531400966183575\n",
            "[[811 282]\n",
            " [229 748]]\n"
          ],
          "name": "stdout"
        }
      ]
    },
    {
      "cell_type": "code",
      "metadata": {
        "id": "TQVqA-BYj3Am",
        "colab_type": "code",
        "colab": {
          "base_uri": "https://localhost:8080/",
          "height": 52
        },
        "outputId": "dbe487bb-1193-4d01-f571-85bf0686450b"
      },
      "source": [
        "# Running XgBoost\n",
        "import xgboost as xgb\n",
        "\n",
        "print('Training XGB Classifier from new features:')\n",
        "xgb_model = xgb.XGBClassifier(max_depth=30,num_class=2, n_estimators=60, learning_rate=0.1, colsample_bytree=.7, gamma=0, reg_alpha=4, objective='multi:softmax', eta=0.3, silent=0, subsample=0.8).fit(x_train, y_train)\n",
        "\n",
        "xgb_pred = xgb_model.predict(x_test)\n",
        "print(accuracy_score(y_test,xgb_pred))"
      ],
      "execution_count": 28,
      "outputs": [
        {
          "output_type": "stream",
          "text": [
            "Training XGB Classifier from new features:\n",
            "0.7246376811594203\n"
          ],
          "name": "stdout"
        }
      ]
    },
    {
      "cell_type": "code",
      "metadata": {
        "id": "jPJRG-7YkDQv",
        "colab_type": "code",
        "colab": {}
      },
      "source": [
        ""
      ],
      "execution_count": 0,
      "outputs": []
    }
  ]
}